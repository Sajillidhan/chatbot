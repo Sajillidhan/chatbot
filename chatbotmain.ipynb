{
 "cells": [
  {
   "cell_type": "code",
   "execution_count": 23,
   "id": "67589fcc-58fe-42b0-be79-4a9349c3892b",
   "metadata": {
    "scrolled": true
   },
   "outputs": [
    {
     "name": "stdout",
     "output_type": "stream",
     "text": [
      "SQL Chatbot (Type 'exit' to quit)\n"
     ]
    },
    {
     "name": "stdin",
     "output_type": "stream",
     "text": [
      "You:  hi\n"
     ]
    },
    {
     "name": "stdout",
     "output_type": "stream",
     "text": [
      "Bot: Hi! I'm ready to help with your SQL queries and graph generation. \n",
      "\n",
      "What information would you like to retrieve from the `employee_details` table? For example, do you want to find the average age of employees, the total revenue generated, or something else? Tell me about your request and I'll generate the SQL query for you. \n",
      "\n",
      "\n",
      "\n",
      "\n"
     ]
    },
    {
     "name": "stdin",
     "output_type": "stream",
     "text": [
      "You:  i need age wise total revenue\n"
     ]
    },
    {
     "name": "stdout",
     "output_type": "stream",
     "text": [
      "Bot: I can help you with that.\n",
      "\n",
      "Here's the generated SQL query:\n",
      "\n",
      "```sql\n",
      "SELECT AGE, SUM(REVENUE) AS TotalRevenue\n",
      "FROM employee_details\n",
      "GROUP BY AGE;\n",
      "```\n",
      "\n",
      "This query will group employees by their age and calculate the sum of revenue for each age group.\n",
      "\n",
      "Is this description correct?  \n",
      "\n",
      "✅ Type **\"confirm query\"** to proceed.  \n",
      "❌ Or add additional requirements.  \n",
      "\n",
      "\n"
     ]
    },
    {
     "name": "stdin",
     "output_type": "stream",
     "text": [
      "You:  confirm query\n"
     ]
    },
    {
     "name": "stdout",
     "output_type": "stream",
     "text": [
      "Bot: ```sql\n",
      "SELECT AGE, SUM(REVENUE) AS TotalRevenue\n",
      "FROM employee_details\n",
      "GROUP BY AGE;\n",
      "```\n",
      "\n",
      "Do you want a graph representation of the results? \n",
      "\n",
      "\n",
      "SELECT AGE, SUM(REVENUE) AS TotalRevenue\n",
      "FROM employee_details\n",
      "GROUP BY AGE;\n",
      "\n",
      "\n",
      "Do you want a graph representation of the results?\n",
      "   AGE  TotalRevenue\n",
      "0   12       5000.50\n",
      "1   15       7000.75\n",
      "2   18       6200.25\n",
      "3   20       8000.00\n",
      "4   22       9100.30\n",
      "5   25      10500.60\n",
      "6   28       9800.80\n",
      "7   30      11000.90\n",
      "8   14       7200.40\n",
      "9   19      16601.40\n"
     ]
    },
    {
     "name": "stdin",
     "output_type": "stream",
     "text": [
      "Would you like a graph representation? (yes/no):  yes\n",
      "What type of graph? (bar, line, pie):  pie\n"
     ]
    },
    {
     "ename": "NameError",
     "evalue": "name 'graph' is not defined",
     "output_type": "error",
     "traceback": [
      "\u001b[1;31m---------------------------------------------------------------------------\u001b[0m",
      "\u001b[1;31mNameError\u001b[0m                                 Traceback (most recent call last)",
      "Cell \u001b[1;32mIn[23], line 179\u001b[0m\n\u001b[0;32m    175\u001b[0m \u001b[38;5;28;01mwith\u001b[39;00m \u001b[38;5;28mopen\u001b[39m(\u001b[38;5;124m\"\u001b[39m\u001b[38;5;124mgraph.py\u001b[39m\u001b[38;5;124m\"\u001b[39m, \u001b[38;5;124m\"\u001b[39m\u001b[38;5;124mw\u001b[39m\u001b[38;5;124m\"\u001b[39m) \u001b[38;5;28;01mas\u001b[39;00m f:\n\u001b[0;32m    176\u001b[0m     f\u001b[38;5;241m.\u001b[39mwrite(response)\n\u001b[1;32m--> 179\u001b[0m importlib\u001b[38;5;241m.\u001b[39mreload(\u001b[43mgraph\u001b[49m)\n\u001b[0;32m    180\u001b[0m \u001b[38;5;28;01mimport\u001b[39;00m\u001b[38;5;250m \u001b[39m\u001b[38;5;21;01mgraph\u001b[39;00m\n\u001b[0;32m    181\u001b[0m graph\u001b[38;5;241m.\u001b[39mplot_graph()\n",
      "\u001b[1;31mNameError\u001b[0m: name 'graph' is not defined"
     ]
    }
   ],
   "source": [
    "import mysql.connector\n",
    "import requests\n",
    "import re\n",
    "import pandas as pd\n",
    "import importlib\n",
    "\n",
    "\n",
    "# Set your Groq API key\n",
    "API_KEY = \"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\"\n",
    "MODEL = \"gemma2-9b-it\"  # Change if needed\n",
    "\n",
    "\n",
    "connection_credentails = {\n",
    "    \"\"\"\n",
    "    conn = mysql.connector.connect(\n",
    "        host=\"localhost\",\n",
    "        user=\"root\",\n",
    "        password=\"admin123\",\n",
    "        port=3306,\n",
    "        database=\"chatbot\",\n",
    "        auth_plugin=\"mysql_native_password\"\n",
    "    )\n",
    "\n",
    "\"\"\"\n",
    "}\n",
    "\n",
    "file_saving_structure = {\n",
    "    \"\"\"\n",
    "    def plot_graph():\n",
    "        { ....code ....}\n",
    "    \n",
    "    if __name__ == \"__main__\":\n",
    "    plot_graph()\n",
    "    \"\"\"\n",
    "}\n",
    "\n",
    "\n",
    "def table_fetching(sql_query):\n",
    "    # Connect to MySQL\n",
    "    conn = mysql.connector.connect(\n",
    "        host=\"localhost\",\n",
    "        user=\"root\",\n",
    "        password=\"admin123\",\n",
    "        port=3306,\n",
    "        database=\"chatbot\",\n",
    "        auth_plugin=\"mysql_native_password\"\n",
    "    )\n",
    "    cur = conn.cursor()\n",
    "    \n",
    "    # Fetch table structure\n",
    "    cur.execute(sql_query)\n",
    "    rows = cur.fetchall()\n",
    "    columns = [col[0] for col in cur.description]\n",
    "    df = pd.DataFrame(rows,columns=columns)\n",
    "    cur.close()\n",
    "    conn.close()\n",
    "    return df\n",
    "\n",
    "\n",
    "    \n",
    "\n",
    "# Connect to MySQL\n",
    "conn = mysql.connector.connect(\n",
    "    host=\"localhost\",\n",
    "    user=\"root\",\n",
    "    password=\"admin123\",\n",
    "    port=3306,\n",
    "    database=\"chatbot\",\n",
    "    auth_plugin=\"mysql_native_password\"\n",
    ")\n",
    "cur = conn.cursor()\n",
    "\n",
    "# Fetch table structure\n",
    "cur.execute(\"\"\"\n",
    "SELECT TABLE_NAME, COLUMN_NAME, DATA_TYPE, COLUMN_TYPE, IS_NULLABLE, COLUMN_DEFAULT, COLUMN_KEY \n",
    "FROM information_schema.COLUMNS \n",
    "WHERE TABLE_SCHEMA = 'chatbot'\n",
    "ORDER BY TABLE_NAME, ORDINAL_POSITION;\n",
    "\"\"\")\n",
    "rows = cur.fetchall()\n",
    "\n",
    "cur.close()\n",
    "conn.close()\n",
    "\n",
    "# ✅ Convert rows into a structured format\n",
    "schema_description = \"\"\n",
    "current_table = None\n",
    "\n",
    "for row in rows:\n",
    "    table_name, column_name, data_type, column_type, is_nullable, column_default, column_key = row\n",
    "    \n",
    "    if table_name != current_table:\n",
    "        schema_description += f\"\\n📌 **Table: {table_name}**\\n\"\n",
    "        schema_description += \"| Column Name | Data Type | Nullable | Default | Key |\\n\"\n",
    "        schema_description += \"|------------|----------|----------|---------|-----|\\n\"\n",
    "        current_table = table_name\n",
    "    \n",
    "    schema_description += f\"| {column_name} | {data_type} | {is_nullable} | {column_default} | {column_key.decode() if isinstance(column_key, (bytes, bytearray)) else column_key} |\\n\"\n",
    "\n",
    "# ✅ Define the system prompt with the formatted table schema\n",
    "SYSTEM_PROMPT = f\"\"\"\n",
    "\n",
    "You are a helpful AI assistant with access to the following database schema:\n",
    "\n",
    "{schema_description}\n",
    "\n",
    "You assist with SQL queries and graph generation related to this schema.\n",
    "\n",
    "1️⃣ **Query Generation:**  \n",
    "   - Collect all necessary information from the user before generating a query.  \n",
    "   - If the keyword **\"total\"** is mentioned, apply **SUM()** in the query where relevant.  \n",
    "   - Once the query is generated, provide a **brief description** explaining its purpose.  \n",
    "   - Ask the user if the description is correct.  \n",
    "   - Ask the user for confirmation:  \n",
    "     ✅ Type **\"confirm query\"** to proceed.  \n",
    "     ❌ Or add additional requirements.  \n",
    "   - If the user inputs **\"confirm query\"**, return **only the SQL query** without any other text.  \n",
    "\n",
    "2️⃣ **Graph Generation (After Query Confirmation):**  \n",
    "   - After the query is confirmed, ask the user if they want a **graph representation** of the query results.  \n",
    "   - If yes, ask what type of graph (e.g., bar chart, line graph, pie chart).  \n",
    "   - Generate **Python code** using **Pandas & Matplotlib** to visualize the data by using the MySQL connection as {connection_credentails}.And put that python code inside a function by this structure {file_saving_structure}.Maintain proper indendation for the python code and dont add anything other than python code in that file.\n",
    "\n",
    "\"\"\"\n",
    "\n",
    "\n",
    "# ✅ Store conversation history\n",
    "conversation_history = [{\"role\": \"system\", \"content\": SYSTEM_PROMPT}]\n",
    "\n",
    "def chat_with_groq(prompt):\n",
    "    global conversation_history  # Maintain previous messages\n",
    "\n",
    "    # Append user message to history\n",
    "    conversation_history.append({\"role\": \"user\", \"content\": prompt})\n",
    "    \n",
    "    url = \"https://api.groq.com/openai/v1/chat/completions\"\n",
    "    headers = {\"Authorization\": f\"Bearer {API_KEY}\", \"Content-Type\": \"application/json\"}\n",
    "    data = {\n",
    "        \"model\": MODEL,\n",
    "        \"messages\": conversation_history  # Send full history\n",
    "    }\n",
    "    \n",
    "    response = requests.post(url, json=data, headers=headers)\n",
    "    \n",
    "    if response.status_code == 200:\n",
    "        bot_response = response.json()[\"choices\"][0][\"message\"][\"content\"]\n",
    "        conversation_history.append({\"role\": \"system\", \"content\": bot_response})\n",
    "        return bot_response\n",
    "    else:\n",
    "        return f\"Error: {response.status_code}, {response.text}\"\n",
    "\n",
    "if __name__ == \"__main__\":\n",
    "    print(\"SQL Chatbot (Type 'exit' to quit)\")\n",
    "    \n",
    "    while True:\n",
    "        user_input = input(\"You: \")\n",
    "        if user_input.lower() == \"exit\":\n",
    "            break\n",
    "\n",
    "        response = chat_with_groq(user_input)\n",
    "        print(f\"Bot: {response}\")\n",
    "\n",
    "        if user_input.lower() == \"confirm query\":\n",
    "            sql_query = re.sub(r\"```sql|```\", \"\", response).strip()\n",
    "            print(sql_query)  # ✅ Return only SQL query\n",
    "            table_result = table_fetching(sql_query)\n",
    "            print(table_result)\n",
    "            graph_input = input(\"Would you like a graph representation? (yes/no): \").strip().lower()\n",
    "            \n",
    "            if graph_input == \"yes\":\n",
    "                graph_query = \"What type of graph? (bar, line, pie): \"\n",
    "                graph_type = input(graph_query).strip().lower()\n",
    "                response = chat_with_groq(graph_query+graph_type)\n",
    "                response = re.sub(r\"```python\\n|```$\", \"\", response).strip()\n",
    "                with open(\"graph.py\", \"w\") as f:\n",
    "                    f.write(response)\n",
    "        \n",
    "                importlib.reload(graph)\n",
    "                import graph\n",
    "                graph.plot_graph()\n",
    "                                \n",
    "                #print(response)\n",
    "                break"
   ]
  },
  {
   "cell_type": "code",
   "execution_count": 22,
   "id": "1c405ba4-1489-495d-9787-d5bb602edc34",
   "metadata": {},
   "outputs": [
    {
     "ename": "NameError",
     "evalue": "name 'graph' is not defined",
     "output_type": "error",
     "traceback": [
      "\u001b[1;31m---------------------------------------------------------------------------\u001b[0m",
      "\u001b[1;31mNameError\u001b[0m                                 Traceback (most recent call last)",
      "Cell \u001b[1;32mIn[22], line 1\u001b[0m\n\u001b[1;32m----> 1\u001b[0m importlib\u001b[38;5;241m.\u001b[39mreload(\u001b[43mgraph\u001b[49m)\n\u001b[0;32m      2\u001b[0m \u001b[38;5;28;01mimport\u001b[39;00m\u001b[38;5;250m \u001b[39m\u001b[38;5;21;01mgraph\u001b[39;00m\n\u001b[0;32m      3\u001b[0m graph\u001b[38;5;241m.\u001b[39mplot_graph()\n",
      "\u001b[1;31mNameError\u001b[0m: name 'graph' is not defined"
     ]
    }
   ],
   "source": [
    "importlib.reload(graph)\n",
    "import graph\n",
    "graph.plot_graph()\n",
    "            "
   ]
  },
  {
   "cell_type": "code",
   "execution_count": 1,
   "id": "ee527b74-dfa7-42ec-a383-ddafd4924eaf",
   "metadata": {},
   "outputs": [],
   "source": [
    "\n",
    "\n",
    "import mysql.connector\n",
    "import requests\n",
    "import re\n",
    "import pandas as pd\n",
    "import importlib\n"
   ]
  },
  {
   "cell_type": "code",
   "execution_count": 1,
   "id": "2ed2bbfd-e5ab-4511-b9d5-5726136da174",
   "metadata": {},
   "outputs": [
    {
     "ename": "NameError",
     "evalue": "name 'll' is not defined",
     "output_type": "error",
     "traceback": [
      "\u001b[1;31m---------------------------------------------------------------------------\u001b[0m",
      "\u001b[1;31mNameError\u001b[0m                                 Traceback (most recent call last)",
      "Cell \u001b[1;32mIn[1], line 1\u001b[0m\n\u001b[1;32m----> 1\u001b[0m \u001b[43mll\u001b[49m\n",
      "\u001b[1;31mNameError\u001b[0m: name 'll' is not defined"
     ]
    }
   ],
   "source": [
    "ll"
   ]
  },
  {
   "cell_type": "code",
   "execution_count": 26,
   "id": "96e8c98f-a37f-4d9b-8799-bf0a83924af0",
   "metadata": {},
   "outputs": [
    {
     "data": {
      "text/plain": [
       "'C:\\\\Users\\\\sajil.thayyil\\\\Desktop\\\\New folder\\\\chatbot'"
      ]
     },
     "execution_count": 26,
     "metadata": {},
     "output_type": "execute_result"
    }
   ],
   "source": [
    "pwd"
   ]
  },
  {
   "cell_type": "code",
   "execution_count": null,
   "id": "8ea1bf65-59ad-4348-90a4-fae947e70638",
   "metadata": {},
   "outputs": [],
   "source": []
  },
  {
   "cell_type": "code",
   "execution_count": 16,
   "id": "75fc1386-e34b-4dd8-8c55-88ac68132604",
   "metadata": {},
   "outputs": [],
   "source": [
    "response = \"\"\"\n",
    "\n",
    " You want to calculate the total revenue for each age group in the **employee_details** table.\n",
    "\n",
    "Here's a SQL query to accomplish that:\n",
    "\n",
    "```\n",
    "SELECT AGE, SUM(REVENUE) AS TOTAL_REVENUE\n",
    "FROM employee_details\n",
    "GROUP BY AGE;\n",
    "```\n",
    "\n",
    "**Brief Description:** This query groups the employees by their age and calculates the total revenue for each age group.\n",
    "\n",
    "Is this description correct?\n",
    "\n",
    "Please respond with:\n",
    "\n",
    "✅ \"confirm query\" if the description is correct and you'd like to proceed.\n",
    "❌ Or add additional requirements if needed.\n",
    "\n",
    "\"\"\""
   ]
  },
  {
   "cell_type": "code",
   "execution_count": 17,
   "id": "f6feee36-3749-401e-973c-4dd410a411c6",
   "metadata": {},
   "outputs": [
    {
     "name": "stdout",
     "output_type": "stream",
     "text": [
      "SELECT AGE, SUM(REVENUE) AS TOTAL_REVENUE\n",
      "FROM employee_details\n",
      "GROUP BY AGE;\n"
     ]
    }
   ],
   "source": [
    "query  =re.search(r\"```(?:sql)?\\s*(.*?)\\s*```\", response, re.DOTALL)\n",
    "if query:\n",
    "    sql_query = query.group(1).strip()\n",
    "    print(sql_query)\n",
    "else:\n",
    "    print(\"No SQL query found.\")"
   ]
  },
  {
   "cell_type": "code",
   "execution_count": 14,
   "id": "27c1cc3f-3f14-443c-8efc-96cd1f68fdd9",
   "metadata": {},
   "outputs": [
    {
     "name": "stdout",
     "output_type": "stream",
     "text": [
      "SELECT AGE, SUM(REVENUE) AS TOTAL_REVENUE\n",
      "FROM employee_details\n",
      "GROUP BY AGE;\n"
     ]
    }
   ],
   "source": []
  },
  {
   "cell_type": "code",
   "execution_count": null,
   "id": "e8a28d09-7175-4129-a9cc-0d243606ef65",
   "metadata": {},
   "outputs": [],
   "source": []
  }
 ],
 "metadata": {
  "kernelspec": {
   "display_name": "Python 3 (ipykernel)",
   "language": "python",
   "name": "python3"
  },
  "language_info": {
   "codemirror_mode": {
    "name": "ipython",
    "version": 3
   },
   "file_extension": ".py",
   "mimetype": "text/x-python",
   "name": "python",
   "nbconvert_exporter": "python",
   "pygments_lexer": "ipython3",
   "version": "3.10.16"
  }
 },
 "nbformat": 4,
 "nbformat_minor": 5
}
